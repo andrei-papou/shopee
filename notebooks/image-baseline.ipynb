{
 "cells": [
  {
   "cell_type": "code",
   "execution_count": 21,
   "id": "trained-indonesia",
   "metadata": {},
   "outputs": [],
   "source": [
    "!mkdir -p ../wheels/"
   ]
  },
  {
   "cell_type": "code",
   "execution_count": 5,
   "id": "favorite-vancouver",
   "metadata": {},
   "outputs": [
    {
     "name": "stdout",
     "output_type": "stream",
     "text": [
      "--2021-03-24 17:39:10--  https://download.pytorch.org/whl/cu111/torch-1.8.0%2Bcu111-cp38-cp38-linux_x86_64.whl\n",
      "Resolving download.pytorch.org (download.pytorch.org)... 54.192.229.31, 54.192.229.14, 54.192.229.100, ...\n",
      "Connecting to download.pytorch.org (download.pytorch.org)|54.192.229.31|:443... connected.\n",
      "HTTP request sent, awaiting response... 200 OK\n",
      "Length: 1982234878 (1.8G) [binary/octet-stream]\n",
      "Saving to: ‘torch-1.8.0+cu111-cp38-cp38-linux_x86_64.whl’\n",
      "\n",
      "torch-1.8.0+cu111-c 100%[===================>]   1.85G  11.2MB/s    in 2m 53s  \n",
      "\n",
      "2021-03-24 17:42:03 (10.9 MB/s) - ‘torch-1.8.0+cu111-cp38-cp38-linux_x86_64.whl’ saved [1982234878/1982234878]\n",
      "\n",
      "--2021-03-24 17:42:03--  http://./\n",
      "Resolving . (.)... failed: No address associated with hostname.\n",
      "wget: unable to resolve host address ‘.’\n",
      "FINISHED --2021-03-24 17:42:03--\n",
      "Total wall clock time: 2m 54s\n",
      "Downloaded: 1 files, 1.8G in 2m 53s (10.9 MB/s)\n"
     ]
    }
   ],
   "source": [
    "!wget https://download.pytorch.org/whl/cu111/torch-1.8.0%2Bcu111-cp38-cp38-linux_x86_64.whl ../wheels/\n",
    "!wget https://download.pytorch.org/whl/cu111/torchvision-0.9.0%2Bcu111-cp38-cp38-linux_x86_64.whl ../wheels/"
   ]
  },
  {
   "cell_type": "code",
   "execution_count": 2,
   "id": "optimum-anime",
   "metadata": {},
   "outputs": [
    {
     "name": "stdout",
     "output_type": "stream",
     "text": [
      "Processing /data/wheels/torch-1.8.0+cu111-cp38-cp38-linux_x86_64.whl\n",
      "Processing /data/wheels/torchvision-0.9.0+cu111-cp38-cp38-linux_x86_64.whl\n",
      "Collecting efficientnet_pytorch\n",
      "  Downloading efficientnet_pytorch-0.7.0.tar.gz (20 kB)\n",
      "Requirement already satisfied: opencv-python in /opt/conda/lib/python3.8/site-packages (4.5.1.48)\n",
      "Requirement already satisfied: pandas in /opt/conda/lib/python3.8/site-packages (1.2.3)\n",
      "Requirement already satisfied: tqdm in /opt/conda/lib/python3.8/site-packages (4.59.0)\n",
      "Requirement already satisfied: matplotlib in /opt/conda/lib/python3.8/site-packages (3.3.4)\n",
      "Requirement already satisfied: typing-extensions in /opt/conda/lib/python3.8/site-packages (from torch==1.8.0+cu111) (3.7.4.3)\n",
      "Requirement already satisfied: numpy in /opt/conda/lib/python3.8/site-packages (from torch==1.8.0+cu111) (1.20.1)\n",
      "Requirement already satisfied: pillow>=4.1.1 in /opt/conda/lib/python3.8/site-packages (from torchvision==0.9.0+cu111) (8.1.2)\n",
      "Requirement already satisfied: cycler>=0.10 in /opt/conda/lib/python3.8/site-packages (from matplotlib) (0.10.0)\n",
      "Requirement already satisfied: python-dateutil>=2.1 in /opt/conda/lib/python3.8/site-packages (from matplotlib) (2.8.1)\n",
      "Requirement already satisfied: kiwisolver>=1.0.1 in /opt/conda/lib/python3.8/site-packages (from matplotlib) (1.3.1)\n",
      "Requirement already satisfied: pyparsing!=2.0.4,!=2.1.2,!=2.1.6,>=2.0.3 in /opt/conda/lib/python3.8/site-packages (from matplotlib) (2.4.7)\n",
      "Requirement already satisfied: six in /opt/conda/lib/python3.8/site-packages (from cycler>=0.10->matplotlib) (1.15.0)\n",
      "Requirement already satisfied: pytz>=2017.3 in /opt/conda/lib/python3.8/site-packages (from pandas) (2021.1)\n",
      "torch is already installed with the same version as the provided wheel. Use --force-reinstall to force an installation of the wheel.\n",
      "torchvision is already installed with the same version as the provided wheel. Use --force-reinstall to force an installation of the wheel.\n",
      "Building wheels for collected packages: efficientnet-pytorch\n",
      "  Building wheel for efficientnet-pytorch (setup.py) ... \u001b[?25ldone\n",
      "\u001b[?25h  Created wheel for efficientnet-pytorch: filename=efficientnet_pytorch-0.7.0-py3-none-any.whl size=16033 sha256=f39791770011fdfe2854453441ab3f3e4b6caf13b0a4ee4aa3f2f5288f9408b1\n",
      "  Stored in directory: /home/jovyan/.cache/pip/wheels/a1/48/0f/c27e70af8f45a2c1d2c2a041e73e0f0ba122d5ef6aa6c2d95c\n",
      "Successfully built efficientnet-pytorch\n",
      "Installing collected packages: efficientnet-pytorch\n",
      "Successfully installed efficientnet-pytorch-0.7.0\n"
     ]
    }
   ],
   "source": [
    "!pip install \\\n",
    "    /data/wheels/torch-1.8.0+cu111-cp38-cp38-linux_x86_64.whl \\\n",
    "    /data/wheels/torchvision-0.9.0+cu111-cp38-cp38-linux_x86_64.whl \\\n",
    "    efficientnet_pytorch \\\n",
    "    opencv-python \\\n",
    "    pandas \\\n",
    "    tqdm \\\n",
    "    matplotlib"
   ]
  },
  {
   "cell_type": "code",
   "execution_count": 5,
   "id": "numerical-score",
   "metadata": {},
   "outputs": [],
   "source": [
    "from pathlib import Path\n",
    "from typing import Tuple\n",
    "\n",
    "import cv2\n",
    "import matplotlib.pyplot as plt\n",
    "import pandas as pd\n",
    "import torch\n",
    "from torch.utils.data import Dataset, DataLoader\n",
    "from torchvision import transforms\n",
    "from torchvision.models import resnet18\n",
    "from tqdm.notebook import tqdm"
   ]
  },
  {
   "cell_type": "code",
   "execution_count": 6,
   "id": "developing-hypothetical",
   "metadata": {},
   "outputs": [
    {
     "name": "stdout",
     "output_type": "stream",
     "text": [
      "ResNet(\n",
      "  (conv1): Conv2d(3, 64, kernel_size=(7, 7), stride=(2, 2), padding=(3, 3), bias=False)\n",
      "  (bn1): BatchNorm2d(64, eps=1e-05, momentum=0.1, affine=True, track_running_stats=True)\n",
      "  (relu): ReLU(inplace=True)\n",
      "  (maxpool): MaxPool2d(kernel_size=3, stride=2, padding=1, dilation=1, ceil_mode=False)\n",
      "  (layer1): Sequential(\n",
      "    (0): BasicBlock(\n",
      "      (conv1): Conv2d(64, 64, kernel_size=(3, 3), stride=(1, 1), padding=(1, 1), bias=False)\n",
      "      (bn1): BatchNorm2d(64, eps=1e-05, momentum=0.1, affine=True, track_running_stats=True)\n",
      "      (relu): ReLU(inplace=True)\n",
      "      (conv2): Conv2d(64, 64, kernel_size=(3, 3), stride=(1, 1), padding=(1, 1), bias=False)\n",
      "      (bn2): BatchNorm2d(64, eps=1e-05, momentum=0.1, affine=True, track_running_stats=True)\n",
      "    )\n",
      "    (1): BasicBlock(\n",
      "      (conv1): Conv2d(64, 64, kernel_size=(3, 3), stride=(1, 1), padding=(1, 1), bias=False)\n",
      "      (bn1): BatchNorm2d(64, eps=1e-05, momentum=0.1, affine=True, track_running_stats=True)\n",
      "      (relu): ReLU(inplace=True)\n",
      "      (conv2): Conv2d(64, 64, kernel_size=(3, 3), stride=(1, 1), padding=(1, 1), bias=False)\n",
      "      (bn2): BatchNorm2d(64, eps=1e-05, momentum=0.1, affine=True, track_running_stats=True)\n",
      "    )\n",
      "  )\n",
      "  (layer2): Sequential(\n",
      "    (0): BasicBlock(\n",
      "      (conv1): Conv2d(64, 128, kernel_size=(3, 3), stride=(2, 2), padding=(1, 1), bias=False)\n",
      "      (bn1): BatchNorm2d(128, eps=1e-05, momentum=0.1, affine=True, track_running_stats=True)\n",
      "      (relu): ReLU(inplace=True)\n",
      "      (conv2): Conv2d(128, 128, kernel_size=(3, 3), stride=(1, 1), padding=(1, 1), bias=False)\n",
      "      (bn2): BatchNorm2d(128, eps=1e-05, momentum=0.1, affine=True, track_running_stats=True)\n",
      "      (downsample): Sequential(\n",
      "        (0): Conv2d(64, 128, kernel_size=(1, 1), stride=(2, 2), bias=False)\n",
      "        (1): BatchNorm2d(128, eps=1e-05, momentum=0.1, affine=True, track_running_stats=True)\n",
      "      )\n",
      "    )\n",
      "    (1): BasicBlock(\n",
      "      (conv1): Conv2d(128, 128, kernel_size=(3, 3), stride=(1, 1), padding=(1, 1), bias=False)\n",
      "      (bn1): BatchNorm2d(128, eps=1e-05, momentum=0.1, affine=True, track_running_stats=True)\n",
      "      (relu): ReLU(inplace=True)\n",
      "      (conv2): Conv2d(128, 128, kernel_size=(3, 3), stride=(1, 1), padding=(1, 1), bias=False)\n",
      "      (bn2): BatchNorm2d(128, eps=1e-05, momentum=0.1, affine=True, track_running_stats=True)\n",
      "    )\n",
      "  )\n",
      "  (layer3): Sequential(\n",
      "    (0): BasicBlock(\n",
      "      (conv1): Conv2d(128, 256, kernel_size=(3, 3), stride=(2, 2), padding=(1, 1), bias=False)\n",
      "      (bn1): BatchNorm2d(256, eps=1e-05, momentum=0.1, affine=True, track_running_stats=True)\n",
      "      (relu): ReLU(inplace=True)\n",
      "      (conv2): Conv2d(256, 256, kernel_size=(3, 3), stride=(1, 1), padding=(1, 1), bias=False)\n",
      "      (bn2): BatchNorm2d(256, eps=1e-05, momentum=0.1, affine=True, track_running_stats=True)\n",
      "      (downsample): Sequential(\n",
      "        (0): Conv2d(128, 256, kernel_size=(1, 1), stride=(2, 2), bias=False)\n",
      "        (1): BatchNorm2d(256, eps=1e-05, momentum=0.1, affine=True, track_running_stats=True)\n",
      "      )\n",
      "    )\n",
      "    (1): BasicBlock(\n",
      "      (conv1): Conv2d(256, 256, kernel_size=(3, 3), stride=(1, 1), padding=(1, 1), bias=False)\n",
      "      (bn1): BatchNorm2d(256, eps=1e-05, momentum=0.1, affine=True, track_running_stats=True)\n",
      "      (relu): ReLU(inplace=True)\n",
      "      (conv2): Conv2d(256, 256, kernel_size=(3, 3), stride=(1, 1), padding=(1, 1), bias=False)\n",
      "      (bn2): BatchNorm2d(256, eps=1e-05, momentum=0.1, affine=True, track_running_stats=True)\n",
      "    )\n",
      "  )\n",
      "  (layer4): Sequential(\n",
      "    (0): BasicBlock(\n",
      "      (conv1): Conv2d(256, 512, kernel_size=(3, 3), stride=(2, 2), padding=(1, 1), bias=False)\n",
      "      (bn1): BatchNorm2d(512, eps=1e-05, momentum=0.1, affine=True, track_running_stats=True)\n",
      "      (relu): ReLU(inplace=True)\n",
      "      (conv2): Conv2d(512, 512, kernel_size=(3, 3), stride=(1, 1), padding=(1, 1), bias=False)\n",
      "      (bn2): BatchNorm2d(512, eps=1e-05, momentum=0.1, affine=True, track_running_stats=True)\n",
      "      (downsample): Sequential(\n",
      "        (0): Conv2d(256, 512, kernel_size=(1, 1), stride=(2, 2), bias=False)\n",
      "        (1): BatchNorm2d(512, eps=1e-05, momentum=0.1, affine=True, track_running_stats=True)\n",
      "      )\n",
      "    )\n",
      "    (1): BasicBlock(\n",
      "      (conv1): Conv2d(512, 512, kernel_size=(3, 3), stride=(1, 1), padding=(1, 1), bias=False)\n",
      "      (bn1): BatchNorm2d(512, eps=1e-05, momentum=0.1, affine=True, track_running_stats=True)\n",
      "      (relu): ReLU(inplace=True)\n",
      "      (conv2): Conv2d(512, 512, kernel_size=(3, 3), stride=(1, 1), padding=(1, 1), bias=False)\n",
      "      (bn2): BatchNorm2d(512, eps=1e-05, momentum=0.1, affine=True, track_running_stats=True)\n",
      "    )\n",
      "  )\n",
      "  (avgpool): AdaptiveAvgPool2d(output_size=(1, 1))\n",
      "  (fc): Linear(in_features=512, out_features=1000, bias=True)\n",
      ")\n"
     ]
    }
   ],
   "source": [
    "# Print model architecture.\n",
    "\n",
    "def _cell():\n",
    "    model = resnet18(pretrained=True)\n",
    "    print(model)\n",
    "\n",
    "_cell()"
   ]
  },
  {
   "cell_type": "code",
   "execution_count": 9,
   "id": "contained-guess",
   "metadata": {},
   "outputs": [],
   "source": [
    "class ImageDataset(Dataset):\n",
    "\n",
    "    def __init__(self, df: pd.DataFrame, image_folder_path: Path):\n",
    "        self._df = df\n",
    "        self._image_folder_path = image_folder_path\n",
    "        self._resize = transforms.Resize(size=(224, 224))\n",
    "        self._normalize = transforms.Normalize(mean=(0.485, 0.456, 0.406), std=(0.229, 0.224, 0.225))\n",
    "\n",
    "    def __len__(self) -> int:\n",
    "        return len(self._df)\n",
    "\n",
    "    def _load_image(self, img_name: str) -> torch.Tensor:\n",
    "        img = torch.from_numpy(\n",
    "            cv2.cvtColor(\n",
    "                cv2.imread(str(self._image_folder_path / img_name)),\n",
    "                cv2.COLOR_BGR2RGB).transpose(2, 0, 1))\n",
    "        return self._normalize(self._resize(img) / 255.0)\n",
    "\n",
    "    def __getitem__(self, idx: int) -> Tuple[torch.Tensor, torch.Tensor, torch.Tensor]:\n",
    "        row = self._df.iloc[idx]\n",
    "        img1_name, lg_id = row['image'], row['label_group']\n",
    "        if idx % 2 == 0:\n",
    "            # pick from other label group\n",
    "            candidates: pd.DataFrame = self._df.loc[self._df.label_group != lg_id]\n",
    "        else:\n",
    "            # pick from same label group\n",
    "            candidates: pd.DataFrame = self._df.loc[(self._df.label_group == lg_id) & (self._df.image != img1_name)]\n",
    "        img2_name = candidates.sample(n=1).image.item()\n",
    "        return self._load_image(img1_name), self._load_image(img2_name), torch.tensor([idx % 2])\n"
   ]
  },
  {
   "cell_type": "code",
   "execution_count": 4,
   "id": "toxic-mobility",
   "metadata": {},
   "outputs": [],
   "source": [
    "class Model(torch.nn.Module):\n",
    "\n",
    "    def __init__(self):\n",
    "        super().__init__()\n",
    "        model = resnet18(pretrained=True)\n",
    "        model.fc = torch.nn.Identity()\n",
    "        self._model = model\n",
    "\n",
    "    def forward(self, x: torch.Tensor) -> torch.Tensor:\n",
    "        return self._model(x)"
   ]
  },
  {
   "cell_type": "code",
   "execution_count": 5,
   "id": "environmental-mountain",
   "metadata": {},
   "outputs": [],
   "source": [
    "train_df = pd.read_csv('/data/train.csv')"
   ]
  },
  {
   "cell_type": "code",
   "execution_count": 16,
   "id": "changing-median",
   "metadata": {},
   "outputs": [],
   "source": [
    "import gc\n",
    "gc.collect(); torch.cuda.empty_cache()"
   ]
  },
  {
   "cell_type": "code",
   "execution_count": 10,
   "id": "disabled-supply",
   "metadata": {},
   "outputs": [
    {
     "data": {
      "application/vnd.jupyter.widget-view+json": {
       "model_id": "9322157743934317af9e8e3a477355bf",
       "version_major": 2,
       "version_minor": 0
      },
      "text/plain": [
       "  0%|          | 0/1071 [00:00<?, ?it/s]"
      ]
     },
     "metadata": {},
     "output_type": "display_data"
    },
    {
     "data": {
      "image/png": "[encoded data removed]",
      "text/plain": [
       "<Figure size 432x288 with 1 Axes>"
      ]
     },
     "metadata": {
      "needs_background": "light"
     },
     "output_type": "display_data"
    }
   ],
   "source": [
    "# Show distance values\n",
    "\n",
    "def _cell():\n",
    "    batch_size = 32\n",
    "    \n",
    "    model = Model()\n",
    "    model = model.cuda()\n",
    "    model.eval()\n",
    "\n",
    "    distance_tensor, color_tensor = None, None\n",
    "    dataset = ImageDataset(df=train_df, image_folder_path=Path('/data/train_images'))\n",
    "    dataloader = DataLoader(dataset, batch_size=batch_size, num_workers=8, pin_memory=True)\n",
    "    with torch.no_grad():\n",
    "        for x1, x2, y in tqdm(dataloader, total=len(dataloader)):\n",
    "            x1, x2 = x1.cuda(), x2.cuda()\n",
    "            v = model(torch.cat([x1, x2], dim=0))\n",
    "            split_idx = int(v.shape[0] / 2)\n",
    "            v1, v2 = v[:split_idx, ...], v[split_idx:, ...]\n",
    "            dist = torch.cdist(torch.unsqueeze(v1, dim=1), torch.unsqueeze(v2, dim=1)).squeeze()\n",
    "            y = y.squeeze()\n",
    "            distance_tensor = torch.cat([distance_tensor, dist], axis=0) if distance_tensor is not None else dist\n",
    "            color_tensor = torch.cat([color_tensor, y], axis=0) if color_tensor is not None else y\n",
    "    \n",
    "    plt.scatter(\n",
    "        x=list(range(len(distance_tensor))),\n",
    "        y=distance_tensor.cpu().numpy(),\n",
    "        c=color_tensor.cpu().numpy())\n",
    "\n",
    "_cell()"
   ]
  },
  {
   "cell_type": "code",
   "execution_count": 8,
   "id": "offensive-graphic",
   "metadata": {},
   "outputs": [
    {
     "data": {
      "application/vnd.jupyter.widget-view+json": {
       "model_id": "538c5705993a4a7c9b61c12bc5d768cc",
       "version_major": 2,
       "version_minor": 0
      },
      "text/plain": [
       "  0%|          | 0/1071 [00:00<?, ?it/s]"
      ]
     },
     "metadata": {},
     "output_type": "display_data"
    },
    {
     "name": "stdout",
     "output_type": "stream",
     "text": [
      "accuracy = 0.8087591240875912, threshold = 18.0\n"
     ]
    },
    {
     "data": {
      "application/vnd.jupyter.widget-view+json": {
       "model_id": "0d4420aeda464656b8f7cc65032efcff",
       "version_major": 2,
       "version_minor": 0
      },
      "text/plain": [
       "  0%|          | 0/1071 [00:00<?, ?it/s]"
      ]
     },
     "metadata": {},
     "output_type": "display_data"
    },
    {
     "name": "stdout",
     "output_type": "stream",
     "text": [
      "accuracy = 0.8305985401459854, threshold = 19.0\n"
     ]
    },
    {
     "data": {
      "application/vnd.jupyter.widget-view+json": {
       "model_id": "123b99559563470bb5a7fd6d27968b85",
       "version_major": 2,
       "version_minor": 0
      },
      "text/plain": [
       "  0%|          | 0/1071 [00:00<?, ?it/s]"
      ]
     },
     "metadata": {},
     "output_type": "display_data"
    },
    {
     "name": "stdout",
     "output_type": "stream",
     "text": [
      "accuracy = 0.8451094890510948, threshold = 20.0\n"
     ]
    },
    {
     "data": {
      "application/vnd.jupyter.widget-view+json": {
       "model_id": "b4b762ebb47c4c0db80b8047b888ad36",
       "version_major": 2,
       "version_minor": 0
      },
      "text/plain": [
       "  0%|          | 0/1071 [00:00<?, ?it/s]"
      ]
     },
     "metadata": {},
     "output_type": "display_data"
    },
    {
     "name": "stdout",
     "output_type": "stream",
     "text": [
      "accuracy = 0.8461313868613138, threshold = 21.0\n"
     ]
    },
    {
     "data": {
      "application/vnd.jupyter.widget-view+json": {
       "model_id": "ffe85e2d498c4172b7382d63a708c9ab",
       "version_major": 2,
       "version_minor": 0
      },
      "text/plain": [
       "  0%|          | 0/1071 [00:00<?, ?it/s]"
      ]
     },
     "metadata": {},
     "output_type": "display_data"
    },
    {
     "name": "stdout",
     "output_type": "stream",
     "text": [
      "accuracy = 0.832963503649635, threshold = 22.0\n"
     ]
    }
   ],
   "source": [
    "# Try different thresholds and pick the best one\n",
    "\n",
    "def _cell():\n",
    "    for threshold in range(18, 23):\n",
    "        threshold = float(threshold)\n",
    "        batch_size = 32\n",
    "\n",
    "        model = Model()\n",
    "        model = model.cuda()\n",
    "        model.eval()\n",
    "\n",
    "        num_correct = 0.0\n",
    "        dataset = ImageDataset(df=train_df, image_folder_path=Path('/data/train_images'))\n",
    "        dataloader = DataLoader(dataset, batch_size=batch_size, num_workers=16, pin_memory=True)\n",
    "        with torch.no_grad():\n",
    "            for x1, x2, y in tqdm(dataloader, total=len(dataloader)):\n",
    "                x1, x2, y = x1.cuda(), x2.cuda(), y.cuda()\n",
    "                v = model(torch.cat([x1, x2], dim=0))\n",
    "                split_idx = int(v.shape[0] / 2)\n",
    "                v1, v2 = v[:split_idx, ...], v[split_idx:, ...]\n",
    "                dist = torch.cdist(torch.unsqueeze(v1, dim=1), torch.unsqueeze(v2, dim=1)).squeeze()\n",
    "                y_pred = (dist < threshold).int()\n",
    "                y = y.squeeze()\n",
    "                num_correct += (y == y_pred).float().sum().item()\n",
    "\n",
    "        print(f'accuracy = {num_correct / len(dataset)}, threshold = {threshold}')\n",
    "\n",
    "_cell()"
   ]
  },
  {
   "cell_type": "code",
   "execution_count": 14,
   "id": "painted-microphone",
   "metadata": {},
   "outputs": [],
   "source": [
    "class ImageTestPairDataset(Dataset):\n",
    "\n",
    "    def __init__(self, df: pd.DataFrame, image_folder_path: Path):\n",
    "        self._df = df\n",
    "        self._image_folder_path = image_folder_path\n",
    "        self._resize = transforms.Resize(size=(224, 224))\n",
    "        self._normalize = transforms.Normalize(mean=(0.485, 0.456, 0.406), std=(0.229, 0.224, 0.225))\n",
    "\n",
    "    def __len__(self) -> int:\n",
    "        return len(self._df)\n",
    "\n",
    "    def _load_image(self, img_name: str) -> torch.Tensor:\n",
    "        img = torch.from_numpy(cv2.imread(str(self._image_folder_path / img_name)).transpose(2, 0, 1))\n",
    "        return self._normalize(self._resize(img) / 255.0)\n",
    "\n",
    "    def __getitem__(self, idx: int) -> Tuple[torch.Tensor, torch.Tensor, torch.Tensor]:\n",
    "        row = self._df.iloc[idx]\n",
    "        img_name_1, lg_1 = row['image_1'], row['label_group_1']\n",
    "        img_name_2, lg_2 = row['image_2'], row['label_group_2']\n",
    "        return self._load_image(img_name_1), self._load_image(img_name_2), torch.tensor([int(lg_1 == lg_2)])"
   ]
  },
  {
   "cell_type": "code",
   "execution_count": 10,
   "id": "returning-january",
   "metadata": {},
   "outputs": [],
   "source": [
    "test_pair_df = pd.read_csv('/data/test_pairs.csv')"
   ]
  },
  {
   "cell_type": "code",
   "execution_count": 15,
   "id": "charged-sleep",
   "metadata": {},
   "outputs": [
    {
     "data": {
      "application/vnd.jupyter.widget-view+json": {
       "model_id": "401dc9ff39f3450f849feab4096ec0bc",
       "version_major": 2,
       "version_minor": 0
      },
      "text/plain": [
       "  0%|          | 0/1628 [00:00<?, ?it/s]"
      ]
     },
     "metadata": {},
     "output_type": "display_data"
    },
    {
     "name": "stdout",
     "output_type": "stream",
     "text": [
      "accuracy = 0.8354962564791707\n"
     ]
    }
   ],
   "source": [
    "# Measure the baseline performance on the test pair set.\n",
    "\n",
    "def _cell():\n",
    "    threshold = 21.0\n",
    "    batch_size = 32\n",
    "\n",
    "    model = Model()\n",
    "    model = model.cuda()\n",
    "    model.eval()\n",
    "\n",
    "    num_correct = 0.0\n",
    "    dataset = ImageTestPairDataset(df=test_pair_df, image_folder_path=Path('/data/train_images'))\n",
    "    dataloader = DataLoader(dataset, batch_size=batch_size, num_workers=8, pin_memory=True)\n",
    "    with torch.no_grad():\n",
    "        for x1, x2, y in tqdm(dataloader, total=len(dataloader)):\n",
    "            x1, x2, y = x1.cuda(), x2.cuda(), y.cuda()\n",
    "            v = model(torch.cat([x1, x2], dim=0))\n",
    "            split_idx = int(v.shape[0] / 2)\n",
    "            v1, v2 = v[:split_idx, ...], v[split_idx:, ...]\n",
    "            dist = torch.cdist(torch.unsqueeze(v1, dim=1), torch.unsqueeze(v2, dim=1)).squeeze()\n",
    "            y_pred = (dist < threshold).int()\n",
    "            y = y.squeeze()\n",
    "            num_correct += (y == y_pred).float().sum().item()\n",
    "\n",
    "    print(f'accuracy = {num_correct / len(dataset)}')\n",
    "\n",
    "_cell()"
   ]
  }
 ],
 "metadata": {
  "kernelspec": {
   "display_name": "Python 3",
   "language": "python",
   "name": "python3"
  },
  "language_info": {
   "codemirror_mode": {
    "name": "ipython",
    "version": 3
   },
   "file_extension": ".py",
   "mimetype": "text/x-python",
   "name": "python",
   "nbconvert_exporter": "python",
   "pygments_lexer": "ipython3",
   "version": "3.8.8"
  }
 },
 "nbformat": 4,
 "nbformat_minor": 5
}
